{
 "cells": [
  {
   "cell_type": "markdown",
   "id": "3310cec6-5dea-4a77-a975-5f1213b89d85",
   "metadata": {},
   "source": [
    "# O que são Funções:\n",
    "\n",
    "Funções são blocos reutilizaveis de código, eles executam uma ação sempre que são chamados, podem retornar um certo valor, e podem ou nçao receber parametros, que podem ou não ser pré atribuidos."
   ]
  },
  {
   "cell_type": "code",
   "execution_count": 1,
   "id": "6e4813b2-75bb-40c8-9337-6d699b9821df",
   "metadata": {},
   "outputs": [
    {
     "name": "stdout",
     "output_type": "stream",
     "text": [
      "3\n"
     ]
    }
   ],
   "source": [
    "# Criação de funções\n",
    "\n",
    "def soma(a, b) -> float: # estrutura basica de funções. O tipo de dado a retornar é opcional, bem como os parametros\n",
    "    return a + b # a função vai retornar a soma dos prametros\n",
    "\n",
    "resultado = soma(1, 2) # é atribuido á variavel o retorno da função\n",
    "print(resultado)"
   ]
  },
  {
   "cell_type": "code",
   "execution_count": 6,
   "id": "74a92760-bcf2-4191-b3bb-7215557a4701",
   "metadata": {},
   "outputs": [
    {
     "name": "stdout",
     "output_type": "stream",
     "text": [
      "teste\n",
      "teste\n",
      "teste\n",
      "teste\n",
      "teste\n",
      "teste\n",
      "teste\n",
      "teste\n",
      "teste\n",
      "teste\n",
      "None\n",
      "contagem\n",
      "contagem\n",
      "contagem\n",
      "contagem\n",
      "None\n"
     ]
    }
   ],
   "source": [
    "# definindo valores padrão para parametors\n",
    "\n",
    "def contar(num=11, caractere=\"teste\"): # Um valor padrão pode ser atribuido aos parametros, assim não dara erro caso a função seja chamada sem eles\n",
    "    for i in range(1, num): # Dentro da função o nome das variaveis devem ser iguais aos parametros, se estes forem utilizados\n",
    "        print(caractere)\n",
    "\n",
    "result = contar() # Passando sem parametros a função é executada normalmente\n",
    "print(result)\n",
    "\n",
    "result2 = contar(caractere = \"contagem\", num=5) # Para passar um novo valor para os parametors os mesmos devem ser declarados com o mesmo nome da função\n",
    "print(result2) # o resultado seguira os novos valores dos parametros"
   ]
  },
  {
   "cell_type": "markdown",
   "id": "1b0e5f64-c721-4480-849f-9e9418c83b10",
   "metadata": {},
   "source": [
    "Em um geral:\n",
    "* Caso hajam parametros sem *valores padrão* na função, então os valores devem ser passados na chamada da função\n",
    "* Caso hajam parametros com *valores padrão* na função, os valores não precisam obrigatoriamente serem passados na chamada da função\n",
    "* Caso deseje mudar o valor de um parametro, pode escrever o valor sem a referencia se a escrita dos novos valores estiver de acordo com a ordem dos parametros da função.\n",
    "* Caso a escrita dos novos valores não esteja na ordem dos parametros da função, então é necessario definir o nome dos parametros na declaração do novo valor"
   ]
  }
 ],
 "metadata": {
  "kernelspec": {
   "display_name": "Python 3 (ipykernel)",
   "language": "python",
   "name": "python3"
  },
  "language_info": {
   "codemirror_mode": {
    "name": "ipython",
    "version": 3
   },
   "file_extension": ".py",
   "mimetype": "text/x-python",
   "name": "python",
   "nbconvert_exporter": "python",
   "pygments_lexer": "ipython3",
   "version": "3.12.7"
  }
 },
 "nbformat": 4,
 "nbformat_minor": 5
}
