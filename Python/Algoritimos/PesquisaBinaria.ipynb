{
 "cells": [
  {
   "cell_type": "code",
   "execution_count": 15,
   "id": "7fa13153-a36b-452c-945d-99fe27c5091c",
   "metadata": {},
   "outputs": [
    {
     "name": "stdout",
     "output_type": "stream",
     "text": [
      "None\n"
     ]
    }
   ],
   "source": [
    "import math\n",
    "def pesquisaBinaria(lista, item): # definir funão para busca binaria, ele recebe uma lista de elementos e um item de busca\n",
    "    baixo = 0 # O mensos valor possivel é chamado de baixo\n",
    "    alto = len(lista) -1 # O maior valor é o alto, que é o tamanho inteiro da lista\n",
    "\n",
    "    while baixo <= alto: # Enquanto baixo for menos do que alto\n",
    "        meio = (baixo + alto) / 2 # sera calculada uma variavel meio, que seria o meio da lista\n",
    "        meio = math.floor(meio)\n",
    "        chute = lista[meio] # O meu chute é este valor meio dentro da lista\n",
    "        if chute == item:\n",
    "            return [meio]\n",
    "        if chute > item:\n",
    "            alto = meio - 1\n",
    "        else:\n",
    "            baixo = meio + 1\n",
    "    return None\n",
    "\n",
    "\n",
    "Lista = [1, 3, 5, 7, 9, 10]\n",
    "\n",
    "print(pesquisaBinaria(Lista, 10))\n",
    "   "
   ]
  },
  {
   "cell_type": "code",
   "execution_count": null,
   "id": "e97fc19b-ed72-46f1-a978-6a13da7109f1",
   "metadata": {},
   "outputs": [],
   "source": []
  }
 ],
 "metadata": {
  "kernelspec": {
   "display_name": "Python 3 (ipykernel)",
   "language": "python",
   "name": "python3"
  },
  "language_info": {
   "codemirror_mode": {
    "name": "ipython",
    "version": 3
   },
   "file_extension": ".py",
   "mimetype": "text/x-python",
   "name": "python",
   "nbconvert_exporter": "python",
   "pygments_lexer": "ipython3",
   "version": "3.12.7"
  }
 },
 "nbformat": 4,
 "nbformat_minor": 5
}
