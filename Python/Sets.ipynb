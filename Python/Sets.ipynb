{
 "cells": [
  {
   "cell_type": "markdown",
   "id": "1d00bd70-ecdf-4768-bb10-ff0632b5553a",
   "metadata": {},
   "source": [
    "# O que são Sets(Conjuntos):\n",
    "Sets(Conjuntos) são estruturas de dados em python que funcionam como conjuntos. Seus valores são unicos e mutaveis, ou seja, não ha valores duplicados, mas podemos mudar seus valores com outras finções como add() ou remove()"
   ]
  },
  {
   "cell_type": "markdown",
   "id": "e920aae0-801d-4426-a363-c59ded71a370",
   "metadata": {},
   "source": [
    "# Criação de Sets:\n",
    "Ha duas formas principais de se criar um Set.\n",
    "\n",
    "Ele pode ser criado utilizando chaves\n",
    "set1 = {valor 1, valor 2, valor 3}\n",
    "\n",
    "Ele pode ser criado a partir de uma lista utilizando a função set\n",
    "\n",
    "lista1 = [1, 2, 3, 4, 4, 5, 6, 5]\n",
    "\n",
    "set2 = set(lista1)"
   ]
  },
  {
   "cell_type": "code",
   "execution_count": 2,
   "id": "2dd4f38f-754b-4b6d-85db-91e09b24fdb4",
   "metadata": {},
   "outputs": [
    {
     "name": "stdout",
     "output_type": "stream",
     "text": [
      "{'Valor1', 'Valor2', 'Valor3'}\n"
     ]
    }
   ],
   "source": [
    "set1 = {\"Valor1\", \"Valor2\", \"Valor3\"} # Primeira forma, utilizando chaves\n",
    "print(set1)"
   ]
  },
  {
   "cell_type": "code",
   "execution_count": 49,
   "id": "38486ec8-a3c9-42a5-a0e0-49766f06d6aa",
   "metadata": {},
   "outputs": [
    {
     "name": "stdout",
     "output_type": "stream",
     "text": [
      "{1, 2, 3, 4, 5, 6}\n"
     ]
    }
   ],
   "source": [
    "lista1 = [1, 2, 3, 4, 4, 5, 6, 5]\n",
    "set2 = set(lista1) # Segunda forma, utilizando a função Set\n",
    "print(set2) # Note que, a lista possui valdores duploicados, porem ao criar um set esses valores são tratados como unicos e não vem duplicados"
   ]
  },
  {
   "cell_type": "markdown",
   "id": "2621700d-65c2-4707-b986-65072dd5861d",
   "metadata": {},
   "source": [
    "# Operações em conjuntos\n",
    "\n",
    "Os conjuntos suportam algumas operações e comparações entre eles, por exemplo:\n",
    "\n",
    "* Podemos verificar se um elemento esta ou não no conjunto:  <span style =\"color: red\"> [x in set] </span>\n",
    "* Podemos fazer a comparação de conjuntos, verificando se são ou não iguais: <span style =\"color: red\"> [ set1 == set2 || set1 != set2]</span>\n",
    "* podemos fazer a união de conjuntos utilizando o simbolo \"|\" ou o método *Union*: <span style =\"color: red\"> [set1 | Set2 || set1.union(set2)]</span>\n",
    "* Podemos fazer a intersecção de conjuntos com o metodo *intersection* ou o simbolo \"&\": <span style =\"color: red\"> [set2.intersection(set3) || set2 & set3]</span>\n",
    "* A diferenca pode ser feita utilizando o simbolo \"-\" ou o metodo *difference*: <span style =\"color: red\"> [set2.difference(set3) || set2 - set3]</span>\n",
    "* Podemos criar um conjunto com os elementos exclusivos dos dois conjuntos utilizando *symetric_difference* ou o simbolo \"^\": <span style =\"color: red\"> [set2.symetric_difference(set3) || set2 ^ set3]</span>\n",
    "* Podemos capturar o tamanho do conjunto com a função len: <span style =\"color: red\"> [len(set)] </span>\n",
    "* Podemos fazer iteração em sets com laços  de repetição: <span style =\"color: red\"> [for x in set] </span>\n",
    "* Sets são como listas desordenadas, portanto nao podemos utilizar metodos de indexação<span style =\"color: red\"> [elemento 1, elemento2, elemento3] </span>, fatiamento[Como função slice(), ou fatiamento <span style =\"color: red\"> [indice_x: indice_y] </span>], ou comportamentos sequenciais"
   ]
  },
  {
   "cell_type": "code",
   "execution_count": 8,
   "id": "01d15ca0-445a-4342-bf01-6d205e5c2582",
   "metadata": {
    "collapsed": true,
    "jupyter": {
     "outputs_hidden": true,
     "source_hidden": true
    },
    "scrolled": true
   },
   "outputs": [
    {
     "name": "stdout",
     "output_type": "stream",
     "text": [
      "True\n",
      "False\n"
     ]
    }
   ],
   "source": [
    "print(7 not in set2)\n",
    "print(7 in set2)"
   ]
  },
  {
   "cell_type": "code",
   "execution_count": 39,
   "id": "224f1d5f-ff69-45ad-8cf0-19521bf5cb77",
   "metadata": {
    "collapsed": true,
    "jupyter": {
     "outputs_hidden": true,
     "source_hidden": true
    }
   },
   "outputs": [
    {
     "name": "stdout",
     "output_type": "stream",
     "text": [
      "False\n",
      "True\n",
      "False\n",
      "True\n",
      "True\n",
      "False\n"
     ]
    }
   ],
   "source": [
    "# Operações nos conjuntos\n",
    "\n",
    "## Comparação de conjuntoss\n",
    "print(set1 == set2) \n",
    "print(set1 != set2)\n",
    "\n",
    "## Pertencimento de conjuntos\n",
    "print(set2.isdisjoint(conjuntoUnido)) # Retorna true se não houverem elementos comuns entre os conjuntos\n",
    "\n",
    "print(set1.issubset(conjuntoUnido)) # Verifica se cada elemento do conjunto esta contido em outro\n",
    "print(set1 <= conjuntoUnido) # A mesma coisa que o de cima, mas feito com sinais ao invés de função\n",
    "\n",
    "print(set2.issuperset(conjuntoUnido)) # Verifica se cada elemento do outro esta no meu conjunto original\n"
   ]
  },
  {
   "cell_type": "code",
   "execution_count": 40,
   "id": "31cba4eb-0034-4ed1-98c7-872577d34417",
   "metadata": {
    "collapsed": true,
    "jupyter": {
     "outputs_hidden": true,
     "source_hidden": true
    }
   },
   "outputs": [
    {
     "name": "stdout",
     "output_type": "stream",
     "text": [
      "{1, 2, 3, 4, 5, 6, 'Valor3', 'Valor1', 'Valor2'}\n",
      "{1, 2, 3, 4, 5, 6, 'Valor3', 'Valor1', 'Valor2'}\n",
      "{1, 2, 3, 5}\n",
      "set()\n",
      "{4, 6}\n",
      "{4, 6}\n",
      "{4, 6, 7, 8, 10}\n",
      "{4, 6, 7, 8, 10}\n"
     ]
    }
   ],
   "source": [
    "## União de conjuntos\n",
    "conjuntoUnido = set1 | set2\n",
    "print(conjuntoUnido)\n",
    "print(set1.union(set2))\n",
    "\n",
    "set3 = {1,2,3,5,7,8,10}\n",
    "## Intersecção de conjuntos\n",
    "Interseccao = set2.intersection(set3) # A função intersection cria um novo conjunto com os elementos comuns aos outros dois conjuntos\n",
    "Interseccao2 = set1 & set2 # Faz a mesma coisa que o de cima, mas com &\n",
    "print(Interseccao)\n",
    "print(Interseccao2)\n",
    "\n",
    "## Diferença de conjuntos\n",
    "diferenca = set2.difference(set3) # retorna os elementos exclusivos de set 2\n",
    "diferenca2 = set2 - set3 # retorna os elementos exclusivos de set 2 (feito com sinal)\n",
    "print(diferenca)\n",
    "print(diferenca2)\n",
    "\n",
    "#Diferença simetrica\n",
    "difSimetrico = set2.symmetric_difference(set3) # Retorna um novo conjunto com os elementos exclusivos de set2 e set 3\n",
    "difSimetrico2 = set2 ^ set3 # Retorna um novo conjunto com os elementos exclusivos de set2 e set 3 (feito com sinais)\n",
    "print(difSimetrico)\n",
    "print(difSimetrico2)"
   ]
  },
  {
   "cell_type": "code",
   "execution_count": 11,
   "id": "f003e836-862b-453a-bbbd-4682ac7ab262",
   "metadata": {
    "collapsed": true,
    "jupyter": {
     "outputs_hidden": true,
     "source_hidden": true
    },
    "scrolled": true
   },
   "outputs": [
    {
     "name": "stdout",
     "output_type": "stream",
     "text": [
      "3\n",
      "6\n"
     ]
    }
   ],
   "source": [
    "print(len(set1))\n",
    "print(len(set2))"
   ]
  },
  {
   "cell_type": "code",
   "execution_count": 12,
   "id": "ef980f6d-a02d-426d-a586-dda581be8320",
   "metadata": {
    "collapsed": true,
    "jupyter": {
     "outputs_hidden": true,
     "source_hidden": true
    }
   },
   "outputs": [
    {
     "name": "stdout",
     "output_type": "stream",
     "text": [
      "1\n",
      "2\n",
      "3\n",
      "4\n",
      "5\n",
      "6\n"
     ]
    }
   ],
   "source": [
    "for x in set2:\n",
    "    print(x)"
   ]
  },
  {
   "cell_type": "code",
   "execution_count": 17,
   "id": "64f76b6a-f7a7-41b1-b1bb-44b046869621",
   "metadata": {
    "collapsed": true,
    "jupyter": {
     "outputs_hidden": true,
     "source_hidden": true
    },
    "scrolled": true
   },
   "outputs": [
    {
     "name": "stdout",
     "output_type": "stream",
     "text": [
      "slice(None, {1, 2, 3, 4, 5, 6}, None)\n"
     ]
    }
   ],
   "source": [
    "print(slice(set2))"
   ]
  },
  {
   "cell_type": "code",
   "execution_count": 48,
   "id": "2dba5311-e867-48ed-8a7a-73fc35701596",
   "metadata": {},
   "outputs": [
    {
     "name": "stdout",
     "output_type": "stream",
     "text": [
      "set()\n"
     ]
    }
   ],
   "source": [
    "# Adição e remoção de elementos\n",
    "# set2.remove(4) # Remove o elemento indicado, se ele não estiver no conjunto é retornado um erro\n",
    "\n",
    "set2.add(25) # Adiciona o elemento no final do conjunto\n",
    "set2.discard(3) # Remova o elemento indicado, se ele não estiver no conjunto não retorna erro\n",
    "set2.pop() # Discarta um elemento aleatorio\n",
    "set2.clear() # Limpa todo o meu conjunto\n",
    "set2.\n",
    "print(set2)"
   ]
  }
 ],
 "metadata": {
  "kernelspec": {
   "display_name": "Python 3 (ipykernel)",
   "language": "python",
   "name": "python3"
  },
  "language_info": {
   "codemirror_mode": {
    "name": "ipython",
    "version": 3
   },
   "file_extension": ".py",
   "mimetype": "text/x-python",
   "name": "python",
   "nbconvert_exporter": "python",
   "pygments_lexer": "ipython3",
   "version": "3.12.7"
  }
 },
 "nbformat": 4,
 "nbformat_minor": 5
}
