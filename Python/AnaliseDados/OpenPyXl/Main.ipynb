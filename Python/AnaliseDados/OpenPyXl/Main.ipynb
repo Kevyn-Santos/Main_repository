{
 "cells": [
  {
   "cell_type": "code",
   "execution_count": 7,
   "metadata": {},
   "outputs": [],
   "source": [
    "from openpyxl import Workbook"
   ]
  },
  {
   "cell_type": "markdown",
   "metadata": {},
   "source": [
    "# Criação de Workbook:\n",
    "\n",
    "Ao se trabalhar com OpenPyXl nós precisamos criar um workbook(Pasta de trabalho/Planilha) e nossas worksheets(Abas da planilha)"
   ]
  },
  {
   "cell_type": "code",
   "execution_count": 19,
   "metadata": {},
   "outputs": [
    {
     "name": "stdout",
     "output_type": "stream",
     "text": [
      "<Worksheet \"Sheet\">\n",
      "<Worksheet \"Planilha 2\">\n"
     ]
    }
   ],
   "source": [
    "wb = Workbook() # Workbook é com 'W' maiusculo\n",
    "ws = wb.active # O metodo active retorna a atual aba da planilha\n",
    "ws2 = wb.create_sheet('Planilha 2') # Com create_sheet fazemos a criação de uma nova aba da planilha\n",
    "\n",
    "print(ws) # Neste caso ws retorna o nome da aba ativa\n",
    "print(ws2)"
   ]
  },
  {
   "cell_type": "markdown",
   "metadata": {},
   "source": [
    "## Acessando informações do Worksheet:\n",
    "\n"
   ]
  },
  {
   "cell_type": "code",
   "execution_count": 26,
   "metadata": {},
   "outputs": [
    {
     "name": "stdout",
     "output_type": "stream",
     "text": [
      "Sheet\n",
      "Planilha 2\n",
      "['Sheet', 'Planilha 2']\n"
     ]
    }
   ],
   "source": [
    "# O tributo title retorna o nome da aba de planilha especifica, enquanto wb.sheetnames retona o nome de todas as abas dentro da planilha\n",
    "print(ws.title) # Titulo da Aba 1\n",
    "print(ws2.title) # Titulo da Aba 2\n",
    "print(wb.sheetnames) # Todos os titulos de aba na planilha\n",
    "wb.save(\"Planilha Principal.xlsx\") # O metodo save salva a planilha com um nome especificado"
   ]
  },
  {
   "cell_type": "markdown",
   "metadata": {},
   "source": [
    "\n",
    "# Manipulando dados na planilha:"
   ]
  },
  {
   "cell_type": "markdown",
   "metadata": {},
   "source": [
    "## Importando uma planilha:\n",
    "Vamos utilizar o modulo *load_workbook* e depois usar a classe de mesmo nome para encontrar a planilha, após isso podemos trata-la como se estivessemos criando uma, podendo utilizar as mesmas funções"
   ]
  },
  {
   "cell_type": "code",
   "execution_count": 89,
   "metadata": {},
   "outputs": [],
   "source": [
    "from openpyxl import load_workbook # o modulo Load Workbook permite carregar workbooks"
   ]
  },
  {
   "cell_type": "code",
   "execution_count": 90,
   "metadata": {},
   "outputs": [],
   "source": [
    "wb2 = load_workbook(\"Planilha Principal.xlsx\")"
   ]
  },
  {
   "cell_type": "code",
   "execution_count": 91,
   "metadata": {},
   "outputs": [
    {
     "data": {
      "text/plain": [
       "<Worksheet \"Planilha 2\">"
      ]
     },
     "execution_count": 91,
     "metadata": {},
     "output_type": "execute_result"
    }
   ],
   "source": [
    "# Com a planilha carregada podemos utilizar todos os metodos que a biblioteca disponibiliza\n",
    "wb2.active # Retona a aba da planilha ativa\n"
   ]
  },
  {
   "cell_type": "code",
   "execution_count": 92,
   "metadata": {},
   "outputs": [
    {
     "data": {
      "text/plain": [
       "<Worksheet \"Planilha 2\">"
      ]
     },
     "execution_count": 92,
     "metadata": {},
     "output_type": "execute_result"
    }
   ],
   "source": [
    "# Para mudar uma aba ativa, basta passar o nome da nova aba entre colchetes, como se fossee utilizar o metodo loc\n",
    "wb2.active = wb2['Planilha 2'] # minha aba ativa é aquela de nome 'Planilha 2' dentor do Workbook carregado \n",
    "wb2.active"
   ]
  },
  {
   "cell_type": "code",
   "execution_count": 93,
   "metadata": {},
   "outputs": [
    {
     "data": {
      "text/plain": [
       "<Worksheet \"Planilha 2\">"
      ]
     },
     "execution_count": 93,
     "metadata": {},
     "output_type": "execute_result"
    }
   ],
   "source": [
    "Planilha2 = wb2['Planilha 2']\n",
    "Planilha2"
   ]
  },
  {
   "cell_type": "markdown",
   "metadata": {},
   "source": [
    "## Preenchendo valores:\n",
    "Para colocar dados em células podemos: \n",
    "\n",
    "* Passar o nome da aba junto da celula diretamente e seu valor\n",
    "* Passar o nome da aba, utilizar a função cell, e dentro dela passar a localização(Em linhas e colunas) da célula a ser preenchida e o seu valor"
   ]
  },
  {
   "cell_type": "code",
   "execution_count": 94,
   "metadata": {},
   "outputs": [
    {
     "data": {
      "text/plain": [
       "<Cell 'Planilha 2'.A2>"
      ]
     },
     "execution_count": 94,
     "metadata": {},
     "output_type": "execute_result"
    }
   ],
   "source": [
    "Planilha2['A1'] = 250 # Passando a célula diretamente com o seu valor\n",
    "Planilha2['B2'] = 'teste'\n",
    "Planilha2.cell(row=2, column=1, value=350) # Passando a localização da célula e seu valor dentro da função cell"
   ]
  },
  {
   "cell_type": "code",
   "execution_count": 95,
   "metadata": {},
   "outputs": [],
   "source": [
    "# Outra forma é iterando pela planilha\n",
    "\n",
    "for x in range(3,6):\n",
    "    for y in range(2,6):\n",
    "        for z in range(0,100):\n",
    "            Planilha2.cell(row=x, column=y, value=z)"
   ]
  },
  {
   "cell_type": "code",
   "execution_count": 96,
   "metadata": {},
   "outputs": [],
   "source": [
    "wb2.save(\"Planilha Principal.xlsx\")"
   ]
  },
  {
   "cell_type": "markdown",
   "metadata": {},
   "source": [
    "## Acessando valores:\n",
    "\n",
    "Para acessar os valorres de um planilha nós iteramos por cada linha e depois iteramos por cada valor na linha"
   ]
  },
  {
   "cell_type": "code",
   "execution_count": 97,
   "metadata": {},
   "outputs": [
    {
     "name": "stdout",
     "output_type": "stream",
     "text": [
      "250\n",
      "None\n",
      "None\n",
      "None\n",
      "None\n",
      "350\n",
      "teste\n",
      "None\n",
      "None\n",
      "None\n",
      "None\n",
      "99\n",
      "99\n",
      "99\n",
      "99\n",
      "None\n",
      "99\n",
      "99\n",
      "99\n",
      "99\n",
      "None\n",
      "99\n",
      "99\n",
      "99\n",
      "99\n"
     ]
    }
   ],
   "source": [
    "# Este metodo retorna todos os valores de todas as linhas dentro da aba\n",
    "for linha in Planilha2.values:\n",
    "    for item in linha:\n",
    "        print(item)"
   ]
  },
  {
   "cell_type": "code",
   "execution_count": 98,
   "metadata": {},
   "outputs": [
    {
     "name": "stdout",
     "output_type": "stream",
     "text": [
      "(250, None, None, None, None)\n",
      "(350, 'teste', None, None, None)\n",
      "(None, 99, 99, 99, 99)\n",
      "(None, 99, 99, 99, 99)\n",
      "(None, 99, 99, 99, 99)\n"
     ]
    }
   ],
   "source": [
    "# Este metodo retorna todos os valores de cada linha como uma tupla\n",
    "for linha in Planilha2.values:\n",
    "    print(linha)"
   ]
  },
  {
   "cell_type": "code",
   "execution_count": 99,
   "metadata": {},
   "outputs": [
    {
     "name": "stdout",
     "output_type": "stream",
     "text": [
      "(250, None, None)\n",
      "(350, 'teste', None)\n",
      "(None, 99, 99)\n"
     ]
    }
   ],
   "source": [
    "# Este metodo retorna um intervalo dos valores de colunas e linhas\n",
    "# Basicamente: selecione da linha um a três, até no maximo a coluna tres, pegue somente os valores sem sua referencia\n",
    "for linha in Planilha2.iter_rows(min_row=1, max_row=3, max_col=3, values_only=True):\n",
    "    print(linha)"
   ]
  },
  {
   "cell_type": "markdown",
   "metadata": {},
   "source": [
    "## Copiando planilha:"
   ]
  },
  {
   "cell_type": "code",
   "execution_count": 100,
   "metadata": {},
   "outputs": [
    {
     "data": {
      "text/plain": [
       "['Sheet', 'Planilha 2', 'Planilha copiada']"
      ]
     },
     "execution_count": 100,
     "metadata": {},
     "output_type": "execute_result"
    }
   ],
   "source": [
    "wsCopia = wb2.copy_worksheet(Planilha2)\n",
    "wsCopia.title = \"Planilha copiada\"\n",
    "wb2.sheetnames"
   ]
  },
  {
   "cell_type": "code",
   "execution_count": 101,
   "metadata": {},
   "outputs": [],
   "source": [
    "wb2.save(\"Planilha Principal.xlsx\")"
   ]
  },
  {
   "cell_type": "code",
   "execution_count": null,
   "metadata": {},
   "outputs": [],
   "source": []
  }
 ],
 "metadata": {
  "kernelspec": {
   "display_name": "Python 3 (ipykernel)",
   "language": "python",
   "name": "python3"
  },
  "language_info": {
   "codemirror_mode": {
    "name": "ipython",
    "version": 3
   },
   "file_extension": ".py",
   "mimetype": "text/x-python",
   "name": "python",
   "nbconvert_exporter": "python",
   "pygments_lexer": "ipython3",
   "version": "3.12.7"
  }
 },
 "nbformat": 4,
 "nbformat_minor": 4
}
