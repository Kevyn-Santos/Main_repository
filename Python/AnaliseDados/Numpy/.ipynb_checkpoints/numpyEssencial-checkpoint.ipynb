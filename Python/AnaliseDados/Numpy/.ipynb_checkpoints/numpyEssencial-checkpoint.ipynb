{
 "cells": [
  {
   "cell_type": "code",
   "execution_count": 1,
   "id": "62cec25a-35a3-4ca8-8af3-8d7026c7bd93",
   "metadata": {},
   "outputs": [],
   "source": [
    "import numpy as np"
   ]
  },
  {
   "cell_type": "markdown",
   "id": "bd365ee3-7fb5-447c-b3a5-cc58a6a249bc",
   "metadata": {},
   "source": [
    "# Criação de arrays e matrizes:\n",
    "\n",
    "A criação de arrays em numpy é feita com o metodo *np.array*, nele nós passamos uma lista ou uma lista de listas. A função recebe qualquer tipo de dado que possa ser considerado uma lista, portanto pode receber listas, tuplas, dicionarios, etc."
   ]
  },
  {
   "cell_type": "code",
   "execution_count": 2,
   "id": "b8c36547-73fa-4b39-88d8-a4e98cf393b5",
   "metadata": {},
   "outputs": [
    {
     "name": "stdout",
     "output_type": "stream",
     "text": [
      "Array de uma dimensão: \n",
      "[1 2 3]\n",
      "\n",
      "\n",
      "Array de duas dimensões:\n",
      "[[1 2 3]\n",
      " [4 5 6]]\n",
      "\n",
      "\n",
      "Array de tres ou mais dimensões:\n",
      "[[[[ 1  2  3]\n",
      "   [ 4  5  6]\n",
      "   [ 1  4  6]\n",
      "   [ 8 10 14]]\n",
      "\n",
      "  [[ 1  4  6]\n",
      "   [ 8 10 12]\n",
      "   [ 1  8 12]\n",
      "   [16 20 24]]]]\n"
     ]
    }
   ],
   "source": [
    "# Array de uma dimensão\n",
    "a = np.array([1,2,3]) \n",
    "\n",
    " # Array de duas dimensões (Matriz)\n",
    "b = np.array([\n",
    "    [1,2,3], [4,5,6]\n",
    "])\n",
    "\n",
    "# Array de tres dimensões(Tensor)\n",
    "c = np.array([ \n",
    "    [\n",
    "        [\n",
    "        [1,2,3], [4,5,6],\n",
    "        [1,4,6], [8,10,14]\n",
    "    ],\n",
    "   [\n",
    "        [1,4,6], [8,10,12],\n",
    "        [1,8,12], [16,20,24]\n",
    "   ]\n",
    "    ]\n",
    "])\n",
    "print(f'''Array de uma dimensão: \n",
    "{a}\\n\\n''')\n",
    "\n",
    "print(f'''Array de duas dimensões:\n",
    "{b}\\n\\n''')\n",
    "print(f'''Array de tres ou mais dimensões:\n",
    "{c}''')\n",
    "\n"
   ]
  },
  {
   "cell_type": "code",
   "execution_count": 3,
   "id": "e2c752a0-aaa6-4fe9-aa60-36381eb81844",
   "metadata": {},
   "outputs": [
    {
     "name": "stdout",
     "output_type": "stream",
     "text": [
      "1\n",
      "2\n",
      "4\n"
     ]
    }
   ],
   "source": [
    "# ndim retorna o número de dimensões de um array\n",
    "print(a.ndim)\n",
    "print(b.ndim)\n",
    "print(c.ndim)"
   ]
  },
  {
   "cell_type": "code",
   "execution_count": 4,
   "id": "9621161a-09c5-412a-a1f8-a880627661d1",
   "metadata": {},
   "outputs": [
    {
     "data": {
      "text/plain": [
       "array(['45', '46'], dtype='<U21')"
      ]
     },
     "execution_count": 4,
     "metadata": {},
     "output_type": "execute_result"
    }
   ],
   "source": [
    "d = np.array([45, '46']) # Como o array deve estar sempre no mesmo tipo de dado, o numpy converte todos os dados automaticamente para um mesmo tipo, geralmente String\n",
    "d"
   ]
  },
  {
   "cell_type": "code",
   "execution_count": 5,
   "id": "759a8c3c-1a76-4e20-9a9f-b7e912f8395f",
   "metadata": {},
   "outputs": [
    {
     "data": {
      "text/plain": [
       "array([[[[[1, 2, 3]]]]])"
      ]
     },
     "execution_count": 5,
     "metadata": {},
     "output_type": "execute_result"
    }
   ],
   "source": [
    "# ndmin -> define que aquele array precisa ter n dimensões\n",
    "e = np.array([1,2,3], ndmin=5)\n",
    "e"
   ]
  },
  {
   "cell_type": "code",
   "execution_count": 6,
   "id": "fe49ab56-798a-48cc-a1b1-4133d3681e9f",
   "metadata": {},
   "outputs": [
    {
     "data": {
      "text/plain": [
       "array([[7.54590104e-312, 6.32404027e-322, 0.00000000e+000,\n",
       "        0.00000000e+000, 1.86921550e-306],\n",
       "       [1.16095484e-028, 7.03073605e+199, 1.81786159e+185,\n",
       "        1.28037380e-152, 7.20361562e+159],\n",
       "       [4.78179684e+180, 1.14442433e+243, 6.19635167e+223,\n",
       "        3.93700018e+180, 9.16526748e+242],\n",
       "       [5.22864484e-067, 9.01486079e+218, 3.93685339e+180,\n",
       "        6.48224637e+170, 3.67145870e+228]])"
      ]
     },
     "execution_count": 6,
     "metadata": {},
     "output_type": "execute_result"
    }
   ],
   "source": [
    "# A criação de arrays vazios toma um shape como parametro, e é feito com a função empty\n",
    "# As funções one ou zero fazem a mesma coisa, porem preenchem os arrays com um ou zero\n",
    "# A função ful faz a mesma coisa, porem preenche o array com um valor desejado\n",
    "f = np.empty((4,)) # Define apenas a quantidade de linhas\n",
    "g = np.empty((4,5)) # Define a quantidade de linhas e colunas\n",
    "f\n",
    "g"
   ]
  },
  {
   "cell_type": "markdown",
   "id": "7d463d14-6a28-4786-82a0-8e1617cc3d1c",
   "metadata": {},
   "source": [
    "## Modificação de arrays"
   ]
  },
  {
   "cell_type": "code",
   "execution_count": 7,
   "id": "6dd6c3e9-c3a5-47a6-b151-f6f131cf8076",
   "metadata": {},
   "outputs": [
    {
     "data": {
      "text/plain": [
       "array([  1,   2, 456,   3])"
      ]
     },
     "execution_count": 7,
     "metadata": {},
     "output_type": "execute_result"
    }
   ],
   "source": [
    "# A função 'insert' insere um valor em um indice de um array especificado\n",
    "\n",
    "aM = np.insert(a, 2, 456) # No array 'a' na posição 2 coloque o valor 456\n",
    "aM"
   ]
  },
  {
   "cell_type": "code",
   "execution_count": 8,
   "id": "c0fd67ff-4e13-484d-bf03-299d3e5a9a2e",
   "metadata": {},
   "outputs": [
    {
     "data": {
      "text/plain": [
       "array([  1,   2,   3,   4,   5,   6, 789])"
      ]
     },
     "execution_count": 8,
     "metadata": {},
     "output_type": "execute_result"
    }
   ],
   "source": [
    "# A função 'append' insere um valor no final do array\n",
    "bM = np.append(b, 789) # Insira no final do array 'b' o valor 456\n",
    "bM"
   ]
  },
  {
   "cell_type": "code",
   "execution_count": 9,
   "id": "4cf3f11c-3256-4be5-bfd0-62d80e4d3cd2",
   "metadata": {},
   "outputs": [
    {
     "name": "stdout",
     "output_type": "stream",
     "text": [
      "[[[[ 1  2  3]\n",
      "   [ 4  5  6]\n",
      "   [ 1  4  6]\n",
      "   [ 8 10 14]]\n",
      "\n",
      "  [[ 1  4  6]\n",
      "   [ 8 10 12]\n",
      "   [ 1  8 12]\n",
      "   [16 20 24]]]]\n",
      "[ 1  5  6  1  4  6  8 10 14  1  4  6  8 10 12  1  8 12 16 20 24]\n"
     ]
    }
   ],
   "source": [
    "# A função 'delete' retira os valores de um array baseado nos indices\n",
    "cM = np.delete(c, [1,2,3]) # Retire do array 'c' os valores dos indices 1,2 e 3\n",
    "print(c)\n",
    "print(cM)"
   ]
  },
  {
   "cell_type": "code",
   "execution_count": 10,
   "id": "781db50b-e87e-46ca-a549-eec404cb41dc",
   "metadata": {},
   "outputs": [
    {
     "name": "stdout",
     "output_type": "stream",
     "text": [
      "[ 1  2  3  4  5  5  6  7  7  8  8  9 10]\n",
      "[ 1  2  3  4  5  6  7  8  9 10]\n"
     ]
    }
   ],
   "source": [
    "# A função 'unique' retorna os valores unicos de um array\n",
    "h = np.array([1,2,3,4,5,5,6,7,7,8,8,9,10])\n",
    "hM = np.unique(h)\n",
    "\n",
    "print(h)\n",
    "print(hM)"
   ]
  },
  {
   "cell_type": "markdown",
   "id": "b7e85c3f-4008-4d03-9334-30385c189489",
   "metadata": {
    "jp-MarkdownHeadingCollapsed": true
   },
   "source": [
    "# Indexação:\n",
    "\n",
    "A indexação de arrays e matrizes segue a mesma lógica das listas em python, ou seja, passe o nome da lista junto do indice onde esta o valor. Pode passar valores negativos"
   ]
  },
  {
   "cell_type": "code",
   "execution_count": 11,
   "id": "29ed2345-3121-44cc-9481-e8c111934040",
   "metadata": {},
   "outputs": [
    {
     "name": "stdout",
     "output_type": "stream",
     "text": [
      "3\n"
     ]
    }
   ],
   "source": [
    "print(a[2])"
   ]
  },
  {
   "cell_type": "code",
   "execution_count": 12,
   "id": "312c535b-1877-417a-b949-45f111ce2e9c",
   "metadata": {},
   "outputs": [
    {
     "name": "stdout",
     "output_type": "stream",
     "text": [
      "5\n"
     ]
    }
   ],
   "source": [
    "# A indexação de arrays multidimensionais necessita que se passe o indice da dimensão e o indice do valor, quanto mais dimensões, mais valores é necessario passar\n",
    "\n",
    "print(b[1,1]) # Acesse a linha de indice 1 e retorne o elemento de indice 1"
   ]
  },
  {
   "cell_type": "code",
   "execution_count": 13,
   "id": "8b16d141-68df-4a4f-ab59-3b0327d63215",
   "metadata": {},
   "outputs": [
    {
     "name": "stdout",
     "output_type": "stream",
     "text": [
      "10\n",
      "24\n"
     ]
    }
   ],
   "source": [
    "# Na matriz de quatro dimensões, pegue a matriz de indice zero, \n",
    "# dentro dela selecione a matriz da primeira posição, \n",
    "# dentre estes arrays, selecione o array que esta na ultima posição, \n",
    "# e neste array retorne o segundo elemento\n",
    "print(c[0,0,-1,1])\n",
    "\n",
    "# Dentro da matriz de quatro dimensões, peque a matriz de indice zero\n",
    "# Dentro dela selecione a matriz na segunda posição\n",
    "# Dentro dests segunda matriz, pegue o array da posição 3\n",
    "# Dentro deste array, selecione o elemento de posição 2\n",
    "print(c[0,1,3,2])"
   ]
  },
  {
   "cell_type": "code",
   "execution_count": 14,
   "id": "1ed0b0bc-147c-4958-a9e3-e8447a78614a",
   "metadata": {},
   "outputs": [
    {
     "name": "stdout",
     "output_type": "stream",
     "text": [
      "[[ 1  4]\n",
      " [ 8 10]\n",
      " [ 1  8]]\n"
     ]
    }
   ],
   "source": [
    "# É possivel utilizar o slicing nas matrizes multidimensionais em qualquer dimensão\n",
    "\n",
    "print(c[0,1,:3,:2])"
   ]
  },
  {
   "cell_type": "markdown",
   "id": "796d3f83-aac0-4020-bd8a-8c3e669af445",
   "metadata": {
    "jp-MarkdownHeadingCollapsed": true
   },
   "source": [
    "# Tipos de dados:\n",
    "\n",
    "Os tipos de dados no Numpy são\n",
    "\n",
    "i - integer\n",
    "\n",
    "b - boolean\n",
    "\n",
    "u - unsigned integer\n",
    "\n",
    "f - float\n",
    "\n",
    "c - complex float\n",
    "\n",
    "m - timedelta\n",
    "\n",
    "M - datetime\n",
    "\n",
    "O - object\n",
    "\n",
    "S - string\n",
    "\n",
    "U - unicode string\n",
    "\n",
    "\n",
    "Eles podem ser modificados com a função astype, passando os apelidos destes tipos de dados ou o nome deles em python, mas tambem podemos definir um tipo de dado padrão da criação do array com o parametro *dtype*"
   ]
  },
  {
   "cell_type": "code",
   "execution_count": 15,
   "id": "e824c2e3-68b5-4a3b-89f1-4c7eba1c8d79",
   "metadata": {},
   "outputs": [
    {
     "name": "stdout",
     "output_type": "stream",
     "text": [
      "[b'21' b'22' b'23' b'24' b'25']\n",
      "|S2\n"
     ]
    }
   ],
   "source": [
    "meu_array = np.array([21, 22, 23, 24, 25], dtype= 'S') # Parametro dtype é usado para determinar qual o tipo de dado do array\n",
    "\n",
    "print(meu_array)\n",
    "print(meu_array.dtype) # .dtype é usado para retornar o tipo de dado de um array"
   ]
  },
  {
   "cell_type": "code",
   "execution_count": 16,
   "id": "e4cd24ea-3f88-441e-ad7a-5dffd4ee98aa",
   "metadata": {},
   "outputs": [
    {
     "name": "stdout",
     "output_type": "stream",
     "text": [
      "[b'21' b'22' b'23' b'24' b'25']\n",
      "|S21\n",
      "['21' '22' '23' '24' '25']\n",
      "<U21\n"
     ]
    }
   ],
   "source": [
    "meu_array = np.array([21, 22, 23, 24, 25])\n",
    "novoArray = meu_array.astype('S') # astype pode ser utilizado para mudar um tipo de dado\n",
    "novoArray2 = meu_array.astype('U')\n",
    "\n",
    "print(novoArray)\n",
    "print(novoArray.dtype)\n",
    "print(novoArray2)\n",
    "print(novoArray2.dtype)\n"
   ]
  },
  {
   "cell_type": "markdown",
   "id": "5e84d619-859b-41d1-9902-c3a005f1b008",
   "metadata": {
    "jp-MarkdownHeadingCollapsed": true
   },
   "source": [
    "## Criação de cópias e de visualizações:\n",
    "\n",
    "A criação de cópias de arrays é feito com a função *copy*, essa copia um array em outro espaço da memoria\n",
    "\n",
    "Para criar uma visualização de um array usamos a função *View*, esta não cria uma cópia em outro espaço da memoria, mas sim, cria uma variavel que aponta para o array original, é como um espelho dele. Sendo assim, qualquer mudança no array original mudara a visualização, e qualquer mudança na visualização mudará o array original"
   ]
  },
  {
   "cell_type": "code",
   "execution_count": 17,
   "id": "94bf2068-08f6-4f58-88c3-582422164c3b",
   "metadata": {},
   "outputs": [
    {
     "name": "stdout",
     "output_type": "stream",
     "text": [
      "[ 10  20  30  40  50  60  70  80  90 100]\n",
      "A cópia não modifica o array original: [ 10  20  30  40  50  60  70  80  90 100]\n",
      "A cópia não modifica o array original: [ 42  20  30  40  50  60  70  80  90 100]\n",
      "A visão modifica o array original: [ 10  20  30  40  50  60  70  80  90 100]\n",
      "A visão modifica o array original: [250  20  30  40  50  60  70  80  90 100]\n"
     ]
    }
   ],
   "source": [
    "meu_array = np.array([10, 20, 30, 40, 50, 60, 70, 80, 90, 100])\n",
    "meu_array2 = np.array([10, 20, 30, 40, 50, 60, 70, 80, 90, 100])\n",
    "\n",
    "copia = meu_array.copy()\n",
    "copia[0] = 42\n",
    "\n",
    "visao = meu_array2.view()\n",
    "visao[0] = 250\n",
    "\n",
    "\n",
    "\n",
    "print(meu_array)\n",
    "print(f'A cópia não modifica o array original: {meu_array}')\n",
    "print(f'A cópia não modifica o array original: {copia}')\n",
    "print(f'A visão modifica o array original: {meu_array}')\n",
    "print(f'A visão modifica o array original: {visao}')"
   ]
  },
  {
   "cell_type": "code",
   "execution_count": 18,
   "id": "5d5b3ce1-ffff-4634-9b03-07d6ab5dab6d",
   "metadata": {},
   "outputs": [
    {
     "name": "stdout",
     "output_type": "stream",
     "text": [
      "A cópia não retorna valores: \n",
      "None\n",
      "A visão retorna valores: \n",
      "[ 10  20  30  40  50  60  70  80  90 100]\n"
     ]
    }
   ],
   "source": [
    "# Por fim, para verificar se você esta trablahndo com uma cópia ou não é necessario usar o método Base\n",
    "# Se a veriavel retornar valores então ela é uma view, senão ela é uma cópia\n",
    "\n",
    "\n",
    "meu_array3 = np.array([10, 20, 30, 40, 50, 60, 70, 80, 90, 100])\n",
    "copia = meu_array3.copy()\n",
    "visao = meu_array3.view()\n",
    "\n",
    "print(f'''A cópia não retorna valores: \n",
    "{copia.base}''')\n",
    "print(f'''A visão retorna valores: \n",
    "{visao.base}''')\n"
   ]
  },
  {
   "cell_type": "markdown",
   "id": "440e0bad-4221-4cf0-8ded-fdfc4b7cd929",
   "metadata": {
    "jp-MarkdownHeadingCollapsed": true
   },
   "source": [
    "# Remodelação de arrays:"
   ]
  },
  {
   "cell_type": "code",
   "execution_count": 19,
   "id": "c97bc65f-4267-47be-b2b3-99e5449b70bd",
   "metadata": {},
   "outputs": [
    {
     "name": "stdout",
     "output_type": "stream",
     "text": [
      "novo C: \n",
      " [[ 1  2]\n",
      " [ 3  4]\n",
      " [ 5  6]\n",
      " [ 1  4]\n",
      " [ 6  8]\n",
      " [10 14]\n",
      " [ 1  4]\n",
      " [ 6  8]\n",
      " [10 12]\n",
      " [ 1  8]\n",
      " [12 16]\n",
      " [20 24]] \n",
      "\n",
      " Novo B: \n",
      " [[[1]\n",
      "  [2]\n",
      "  [3]]\n",
      "\n",
      " [[4]\n",
      "  [5]\n",
      "  [6]]]\n"
     ]
    }
   ],
   "source": [
    "# O método reshape remodela a estrutura da matriz\n",
    "# para funcionar a multiplicação dos valores dentro da função deve ser igual a quantidade de elementos da matriz\n",
    "novoC = c.reshape(12,2)\n",
    "print(f'novo C: \\n {novoC} \\n')\n",
    "novoB = b.reshape(2, 3, 1)\n",
    "print(f' Novo B: \\n {novoB}')"
   ]
  },
  {
   "cell_type": "code",
   "execution_count": 20,
   "id": "e0be3720-216d-407f-8368-89aea5229936",
   "metadata": {},
   "outputs": [
    {
     "data": {
      "text/plain": [
       "array([[  1,   2,   3,   4,   5,   6,   7,   8,   9,  10],\n",
       "       [ 11,  12,  13,  14,  15,  16,  17,  18,  19,  20],\n",
       "       [ 21,  22,  23,  24,  25,  26,  27,  28,  29,  30],\n",
       "       [ 31,  32,  33,  34,  35,  36,  37,  38,  39,  40],\n",
       "       [ 41,  42,  43,  44,  45,  46,  47,  48,  49,  50],\n",
       "       [ 51,  52,  53,  54,  55,  56,  57,  58,  59,  60],\n",
       "       [ 61,  62,  63,  64,  65,  66,  67,  68,  69,  70],\n",
       "       [ 71,  72,  73,  74,  75,  76,  77,  78,  79,  80],\n",
       "       [ 81,  82,  83,  84,  85,  86,  87,  88,  89,  90],\n",
       "       [ 91,  92,  93,  94,  95,  96,  97,  98,  99, 100]])"
      ]
     },
     "execution_count": 20,
     "metadata": {},
     "output_type": "execute_result"
    }
   ],
   "source": [
    "g = np.arange(1, 101, 1)\n",
    "g\n",
    "novoG = g.reshape(10, 10)\n",
    "novoG"
   ]
  },
  {
   "cell_type": "code",
   "execution_count": 21,
   "id": "9829cf29-fba5-41c1-b95e-b5346f6b5014",
   "metadata": {},
   "outputs": [
    {
     "data": {
      "text/plain": [
       "array([  1,  11,  21,  31,  41,  51,  61,  71,  81,  91,   2,  12,  22,\n",
       "        32,  42,  52,  62,  72,  82,  92,   3,  13,  23,  33,  43,  53,\n",
       "        63,  73,  83,  93,   4,  14,  24,  34,  44,  54,  64,  74,  84,\n",
       "        94,   5,  15,  25,  35,  45,  55,  65,  75,  85,  95,   6,  16,\n",
       "        26,  36,  46,  56,  66,  76,  86,  96,   7,  17,  27,  37,  47,\n",
       "        57,  67,  77,  87,  97,   8,  18,  28,  38,  48,  58,  68,  78,\n",
       "        88,  98,   9,  19,  29,  39,  49,  59,  69,  79,  89,  99,  10,\n",
       "        20,  30,  40,  50,  60,  70,  80,  90, 100])"
      ]
     },
     "execution_count": 21,
     "metadata": {},
     "output_type": "execute_result"
    }
   ],
   "source": [
    "G_achatado = novoG.flatten('F')\n",
    "G_achatado"
   ]
  },
  {
   "cell_type": "code",
   "execution_count": 22,
   "id": "4d5b13a4-816f-4668-bee9-65a2d4b6d871",
   "metadata": {},
   "outputs": [
    {
     "name": "stdout",
     "output_type": "stream",
     "text": [
      "[ 1  2  3  4  5  6  7  8  9 10] \n",
      "numero de dimensões desse excerto:\n",
      " 1\n",
      "[11 12 13 14 15 16 17 18 19 20] \n",
      "numero de dimensões desse excerto:\n",
      " 1\n",
      "[21 22 23 24 25 26 27 28 29 30] \n",
      "numero de dimensões desse excerto:\n",
      " 1\n",
      "[31 32 33 34 35 36 37 38 39 40] \n",
      "numero de dimensões desse excerto:\n",
      " 1\n",
      "[41 42 43 44 45 46 47 48 49 50] \n",
      "numero de dimensões desse excerto:\n",
      " 1\n",
      "[51 52 53 54 55 56 57 58 59 60] \n",
      "numero de dimensões desse excerto:\n",
      " 1\n",
      "[61 62 63 64 65 66 67 68 69 70] \n",
      "numero de dimensões desse excerto:\n",
      " 1\n",
      "[71 72 73 74 75 76 77 78 79 80] \n",
      "numero de dimensões desse excerto:\n",
      " 1\n",
      "[81 82 83 84 85 86 87 88 89 90] \n",
      "numero de dimensões desse excerto:\n",
      " 1\n",
      "[ 91  92  93  94  95  96  97  98  99 100] \n",
      "numero de dimensões desse excerto:\n",
      " 1\n",
      "\n",
      " Dimensões do array original: 2\n"
     ]
    }
   ],
   "source": [
    "for elemento in novoG:\n",
    "    print(f'{elemento} \\nnumero de dimensões desse excerto:\\n {elemento.ndim}')\n",
    "print(f'\\n Dimensões do array original: {novoG.ndim}')"
   ]
  },
  {
   "cell_type": "markdown",
   "id": "219209ca-2833-48df-9f10-cb5a63dcd3a9",
   "metadata": {
    "jp-MarkdownHeadingCollapsed": true
   },
   "source": [
    "# junção e segmentação de arrays:\n",
    "\n",
    "A junção de arrays pode ser feita com as funções:\n",
    "\n",
    "*concatenate* -> Ela vai juntar os arrays por padrão em linhas, mas é possivel definir sua junção em colunas. \n",
    "\n",
    "*stack* -> Ela tambem faz o empilhamento dos arrays, mas cria um array bidimensional no processo. Suas variantes (*hstack, vstack e dstack*), fazem a mesma coisa, mas por padrão elas tem eixos determinados"
   ]
  },
  {
   "cell_type": "code",
   "execution_count": 23,
   "id": "69bbd044-f7e3-4df5-87b5-c4be40dc469e",
   "metadata": {},
   "outputs": [
    {
     "name": "stdout",
     "output_type": "stream",
     "text": [
      "[[10 20]\n",
      " [30 40]\n",
      " [50 60]\n",
      " [70 80]]\n",
      "\n",
      " [[10 20 50 60]\n",
      " [30 40 70 80]]\n"
     ]
    }
   ],
   "source": [
    "arr1 = np.array([[10, 20], \n",
    "                 [30, 40]])\n",
    "\n",
    "arr2 = np.array([[50, 60], \n",
    "                 [70, 80]])\n",
    "\n",
    "ArrayConcatenado = np.concatenate([arr1, arr2]) # sem utilizar parametros, a função junta os arrays linha por linha, empilhando todos eles.\n",
    "ArrayConcatenado2 = np.concatenate([arr1, arr2], axis=1) # utilizando o parametro de eixo, a função junta os arrays em formato de bloco, como se ela empilhasse o segundo array na frente do primeiro.\n",
    "print(ArrayConcatenado)\n",
    "print(f'\\n {ArrayConcatenado2}')"
   ]
  },
  {
   "cell_type": "code",
   "execution_count": 24,
   "id": "acfebe38-c666-4ec0-82f0-127a8b9ec009",
   "metadata": {},
   "outputs": [
    {
     "name": "stdout",
     "output_type": "stream",
     "text": [
      "[[ 10  20  30  40  50]\n",
      " [ 60  70  80  90 100]]\n",
      "\n",
      " [[ 10  60]\n",
      " [ 20  70]\n",
      " [ 30  80]\n",
      " [ 40  90]\n",
      " [ 50 100]]\n"
     ]
    }
   ],
   "source": [
    "arr1 = np.array([10, 20, 30, 40, 50])\n",
    "\n",
    "arr2 = np.array([60, 70, 80, 90, 100])\n",
    "\n",
    "arrayEmpilhado = np.stack([arr1, arr2]) # Cria um array bidimensional emilhando por coluna\n",
    "arrayEmpilhado2 = np.stack([arr1, arr2], axis=1) # Cria um array Bidimensional transpondo a coluna em linha \n",
    "print(arrayEmpilhado)\n",
    "print(f'\\n {arrayEmpilhado2}')"
   ]
  },
  {
   "cell_type": "code",
   "execution_count": 25,
   "id": "efa28131-420e-4ac9-839f-7b213245675c",
   "metadata": {},
   "outputs": [
    {
     "name": "stdout",
     "output_type": "stream",
     "text": [
      "[ 10  20  30  40  50  60  70  80  90 100]\n",
      "\n",
      "[[ 10  20  30  40  50]\n",
      " [ 60  70  80  90 100]]\n",
      "\n",
      "[[[ 10  60]\n",
      "  [ 20  70]\n",
      "  [ 30  80]\n",
      "  [ 40  90]\n",
      "  [ 50 100]]]\n"
     ]
    }
   ],
   "source": [
    "arr1 = np.array([10, 20, 30, 40, 50])\n",
    "\n",
    "arr2 = np.array([60, 70, 80, 90, 100])\n",
    "\n",
    "h = np.hstack([arr1, arr2]) # por padrão faz o empilhamento na horizontal, o equivalente ao axis=0 \n",
    "v= np.vstack([arr1, arr2]) # Por padrão faz o empilhamento na vertical, o equivalente ao axis=1\n",
    "d = np.dstack([arr1, arr2]) # Por padrão faz a transposição de colunas em linhas\n",
    "print(h)\n",
    "print(f'\\n{v}')\n",
    "print(f'\\n{d}')"
   ]
  },
  {
   "cell_type": "markdown",
   "id": "171cb93c-d663-49c9-afd2-19dfce70340b",
   "metadata": {
    "jp-MarkdownHeadingCollapsed": true
   },
   "source": [
    "## Segmentação de arrays:\n",
    "\n",
    "A segmentação de arrays pode ser feita com as funções:\n",
    "\n",
    "*Array_split* -> separa um array em outros N arrays menores. Essa função não retorna erro se o tamanho dos arrays ficarem divergentes\n",
    "\n",
    "*Split* -> Faz o mesmo que a função *Array_Split*, porem se o tamanho dos arrays forem divergentes um erro é retornado\n",
    "\n",
    "As variações *hsplit e vsplit* -> Funcionam como o split e partem o array na horizontal e vertical respectivamente.\n",
    "\n",
    "Obs: \n",
    "A função array_split funciona da seguinte forma para que os arrays possuam o tamanho, o resultado da quantidade de elementos do array / pela quantidade de arrays desejados deve ser multiplo da quantidade de elementos do array.\n",
    "em outras palavras é algo deste tipo: \n",
    "X = QTD. Elem_Array / QTD. Arrays_desejados\n",
    "se X = M(QTD. Elem_array) -> Os arrays terão o mesmo tamanho; senão -> Os arrays terão tamanhos distintos"
   ]
  },
  {
   "cell_type": "code",
   "execution_count": 26,
   "id": "c7db7968-ede1-491a-9893-5ee33e51db33",
   "metadata": {},
   "outputs": [
    {
     "name": "stdout",
     "output_type": "stream",
     "text": [
      "[array([10, 20, 30, 40, 50]), array([ 60,  70,  80,  90, 100])] \n",
      " \n",
      " [array([10, 20, 30]), array([40, 50, 60]), array([70, 80]), array([ 90, 100])] \n",
      " \n",
      " [array([[10, 20],\n",
      "       [30, 40]]), array([[50, 60],\n",
      "       [70, 80]]), array([[ 90, 100],\n",
      "       [110, 120]])]\n"
     ]
    }
   ],
   "source": [
    "meu_array = np.array([10, 20, 30, 40, 50, 60, 70, 80, 90, 100])\n",
    "\n",
    "meu_array2 = np.array([\n",
    "                      [10, 20], \n",
    "                      [30, 40],\n",
    "                      [50, 60], \n",
    "                      [70, 80],\n",
    "                      [90, 100],\n",
    "                      [110, 120]\n",
    "                 ])\n",
    "\n",
    "novoArray = np.array_split(meu_array, 2)\n",
    "novoArray2 = np.array_split(meu_array, 4)\n",
    "novoArray3 = np.array_split(meu_array2, 3)\n",
    "\n",
    "print(f\"{novoArray} \\n \\n {novoArray2} \\n \\n {novoArray3}\")"
   ]
  },
  {
   "cell_type": "code",
   "execution_count": 27,
   "id": "7f17bbbc-f1ed-4301-9f4c-5abdd4345c4d",
   "metadata": {},
   "outputs": [
    {
     "name": "stdout",
     "output_type": "stream",
     "text": [
      "[array([[10, 20],\n",
      "       [30, 40],\n",
      "       [50, 60]]), array([[ 70,  80],\n",
      "       [ 90, 100],\n",
      "       [110, 120]])]\n"
     ]
    }
   ],
   "source": [
    "meu_array2 = np.array([\n",
    "                      [10, 20], \n",
    "                      [30, 40],\n",
    "                      [50, 60], \n",
    "                      [70, 80],\n",
    "                      [90, 100],\n",
    "                      [110, 120]\n",
    "                 ])\n",
    "\n",
    "NovoArray = np.split(meu_array2, 2) # Isso funciona pois 12/2 = 6, e 6 é multiplo de 12\n",
    "\n",
    "print(NovoArray)"
   ]
  },
  {
   "cell_type": "code",
   "execution_count": 28,
   "id": "cc6d447b-64e7-4a90-af6d-e494a121d92c",
   "metadata": {},
   "outputs": [
    {
     "ename": "ValueError",
     "evalue": "array split does not result in an equal division",
     "output_type": "error",
     "traceback": [
      "\u001b[1;31m---------------------------------------------------------------------------\u001b[0m",
      "\u001b[1;31mValueError\u001b[0m                                Traceback (most recent call last)",
      "Cell \u001b[1;32mIn[28], line 1\u001b[0m\n\u001b[1;32m----> 1\u001b[0m NovoArray2 \u001b[38;5;241m=\u001b[39m \u001b[43mnp\u001b[49m\u001b[38;5;241;43m.\u001b[39;49m\u001b[43msplit\u001b[49m\u001b[43m(\u001b[49m\u001b[43mmeu_array2\u001b[49m\u001b[43m,\u001b[49m\u001b[43m \u001b[49m\u001b[38;5;241;43m5\u001b[39;49m\u001b[43m)\u001b[49m \u001b[38;5;66;03m# Isso não funciona pois 12/5 = 2.4, e isso não é multiplo de 12\u001b[39;00m\n\u001b[0;32m      2\u001b[0m \u001b[38;5;28mprint\u001b[39m(NovoArray2)\n",
      "File \u001b[1;32m~\\AppData\\Roaming\\Python\\Python312\\site-packages\\numpy\\lib\\_shape_base_impl.py:877\u001b[0m, in \u001b[0;36msplit\u001b[1;34m(ary, indices_or_sections, axis)\u001b[0m\n\u001b[0;32m    875\u001b[0m     N \u001b[38;5;241m=\u001b[39m ary\u001b[38;5;241m.\u001b[39mshape[axis]\n\u001b[0;32m    876\u001b[0m     \u001b[38;5;28;01mif\u001b[39;00m N \u001b[38;5;241m%\u001b[39m sections:\n\u001b[1;32m--> 877\u001b[0m         \u001b[38;5;28;01mraise\u001b[39;00m \u001b[38;5;167;01mValueError\u001b[39;00m(\n\u001b[0;32m    878\u001b[0m             \u001b[38;5;124m'\u001b[39m\u001b[38;5;124marray split does not result in an equal division\u001b[39m\u001b[38;5;124m'\u001b[39m) \u001b[38;5;28;01mfrom\u001b[39;00m\u001b[38;5;250m \u001b[39m\u001b[38;5;28;01mNone\u001b[39;00m\n\u001b[0;32m    879\u001b[0m \u001b[38;5;28;01mreturn\u001b[39;00m array_split(ary, indices_or_sections, axis)\n",
      "\u001b[1;31mValueError\u001b[0m: array split does not result in an equal division"
     ]
    }
   ],
   "source": [
    "NovoArray2 = np.split(meu_array2, 5) # Isso não funciona pois 12/5 = 2.4, e isso não é multiplo de 12\n",
    "print(NovoArray2)"
   ]
  },
  {
   "cell_type": "markdown",
   "id": "883f3e15-0b3a-4a56-b356-b7e8bb1c46ea",
   "metadata": {},
   "source": [
    "# Filtragem de dados e ordenação do array:"
   ]
  },
  {
   "cell_type": "code",
   "execution_count": 62,
   "id": "e9ab7b45-bb4e-4ff0-98e0-3d13babda183",
   "metadata": {},
   "outputs": [
    {
     "name": "stdout",
     "output_type": "stream",
     "text": [
      "Posição dos restos 0 quando divididos por 2 [0 1 2 3 4 5 6 7 8 9]\n",
      "valor da condição quando divididos por 2 [ 10  20  30  40  50  60  70  80  90 100]\n",
      "Posição dos restos 0 quando divididos por 3 [2 5 8]\n",
      "valor da condição quando divididos por 3 [30 60 90]\n",
      "Posição dos restos 0 quando divididos por 4 [1 3 5 7 9]\n",
      "valor da condição quando divididos por 4 [ 20  40  60  80 100]\n"
     ]
    }
   ],
   "source": [
    "arrA = np.array([10, 20, 30, 40, 50, 60, 70, 80, 90, 100])\n",
    "\n",
    "mult2 = np.where(arrA % 2 == 0) # Where é o equivalente a um query do pandas, ele verifica uma condição e retorna os indiçes onde a condição é verdadeira\n",
    "mult3 = np.where(arrA % 3 == 0)\n",
    "mult4 = np.where(arrA % 4 == 0)\n",
    "\n",
    "print('Posição dos restos 0 quando divididos por 2 {}'. format(', '.join([str(p) for p in list(mult2)]))) # Usa um compreensão de lista para retornar as posições\n",
    "print('valor da condição quando divididos por 2 {}'. format(', '.join([str(arrA[p]) for p in list(mult2)]))) # Usa um compreensão de lista para retornar os valores baseando-se nas posições\n",
    "\n",
    "print('Posição dos restos 0 quando divididos por 3 {}'. format(', '.join([str(p) for p in list(mult3)])))\n",
    "print('valor da condição quando divididos por 3 {}'. format(', '.join([str(arrA[p]) for p in list(mult3)])))\n",
    "\n",
    "print('Posição dos restos 0 quando divididos por 4 {}'. format(', '.join([str(p) for p in list(mult4)])))\n",
    "print('valor da condição quando divididos por 4 {}'. format(', '.join([str(arrA[p]) for p in list(mult4)])))"
   ]
  },
  {
   "cell_type": "code",
   "execution_count": 63,
   "id": "f843627e-40ca-4645-ba96-cbed6af8a346",
   "metadata": {},
   "outputs": [
    {
     "name": "stdout",
     "output_type": "stream",
     "text": [
      "[3 5]\n",
      "[3 5]\n"
     ]
    }
   ],
   "source": [
    "# É possivel selecionar elementos baseado em uma lista de valores booleanos, pode se passar a lista diretamente ou uma variavel que contenha a lista\n",
    "arr3 = np.array([1,2,3,4,5])\n",
    "arrCondicao = [False, False, True, False, True]\n",
    "print(arr3[arrCondicao])\n",
    "print(arr3[[False, False, True, False, True]])"
   ]
  },
  {
   "cell_type": "code",
   "execution_count": 64,
   "id": "9418f07d-585c-4209-af10-7a9edc2e4c45",
   "metadata": {},
   "outputs": [
    {
     "name": "stdout",
     "output_type": "stream",
     "text": [
      "[30 60 90]\n"
     ]
    }
   ],
   "source": [
    "# É possivel passar a condição diretamente como parametro do array\n",
    "print(arrA[arrA % 3 == 0])"
   ]
  },
  {
   "cell_type": "markdown",
   "id": "fa906251-d1f2-4af8-a1de-b0fb57df3391",
   "metadata": {},
   "source": [
    "## Ordenação de dados:"
   ]
  },
  {
   "cell_type": "code",
   "execution_count": 65,
   "id": "44fa9d78-358b-4b66-aa03-ad3245c349d1",
   "metadata": {},
   "outputs": [
    {
     "name": "stdout",
     "output_type": "stream",
     "text": [
      "5\n"
     ]
    }
   ],
   "source": [
    "# A função Searchsorted procura a melhor posição para se incluir um valor sem desordenar o array. Pode ser usado com a função Insert\n",
    "arrB = np.array([10, 20, 30, 40, 50, 70, 80, 90, 100])\n",
    "posicao = np.searchsorted(arrB, 60) # É possivel utilizar uma lista de valores que se deseja colocar\n",
    "print(posicao)"
   ]
  },
  {
   "cell_type": "code",
   "execution_count": 66,
   "id": "5f97db43-2321-4418-8b66-e9c57bf45ef9",
   "metadata": {},
   "outputs": [
    {
     "name": "stdout",
     "output_type": "stream",
     "text": [
      "[ 10  20  30  40  50  70  80  90 100]\n",
      "[ 10  20  30  40  50  60  70  80  90 100]\n"
     ]
    }
   ],
   "source": [
    "novoArrB = np.insert(arrB, posicao, 60)\n",
    "print(arrB)\n",
    "print(novoArrB)"
   ]
  },
  {
   "cell_type": "code",
   "execution_count": 67,
   "id": "104b9165-b6c2-4528-9911-41ceec308949",
   "metadata": {},
   "outputs": [
    {
     "name": "stdout",
     "output_type": "stream",
     "text": [
      "[[[[ 1  4  2]\n",
      "   [ 6 10  8]\n",
      "   [ 1  6  3]\n",
      "   [12  9 15]]\n",
      "\n",
      "  [[ 1  4  6]\n",
      "   [ 8 10 12]\n",
      "   [ 1  8 12]\n",
      "   [16 20 24]]]]\n"
     ]
    }
   ],
   "source": [
    "# A função Sort permite ordenar um array ou matriz\n",
    "Novoc = np.array([ \n",
    "    [\n",
    "        [\n",
    "        [1,4,2], [6,10,8],\n",
    "        [1,6,3], [12,9,15]\n",
    "    ],\n",
    "   [\n",
    "        [1,4,6], [8,10,12],\n",
    "        [1,8,12], [16,20,24]\n",
    "   ]\n",
    "    ]\n",
    "])\n",
    "print(Novoc)"
   ]
  },
  {
   "cell_type": "code",
   "execution_count": 68,
   "id": "42dbc491-a7ba-4d46-b186-9d9b69db06f5",
   "metadata": {},
   "outputs": [
    {
     "name": "stdout",
     "output_type": "stream",
     "text": [
      "[[[[ 1  2  4]\n",
      "   [ 6  8 10]\n",
      "   [ 1  3  6]\n",
      "   [ 9 12 15]]\n",
      "\n",
      "  [[ 1  4  6]\n",
      "   [ 8 10 12]\n",
      "   [ 1  8 12]\n",
      "   [16 20 24]]]]\n"
     ]
    }
   ],
   "source": [
    "C_ordenado = np.sort(Novoc)\n",
    "print(C_ordenado)"
   ]
  }
 ],
 "metadata": {
  "kernelspec": {
   "display_name": "Python 3 (ipykernel)",
   "language": "python",
   "name": "python3"
  },
  "language_info": {
   "codemirror_mode": {
    "name": "ipython",
    "version": 3
   },
   "file_extension": ".py",
   "mimetype": "text/x-python",
   "name": "python",
   "nbconvert_exporter": "python",
   "pygments_lexer": "ipython3",
   "version": "3.12.7"
  }
 },
 "nbformat": 4,
 "nbformat_minor": 5
}
