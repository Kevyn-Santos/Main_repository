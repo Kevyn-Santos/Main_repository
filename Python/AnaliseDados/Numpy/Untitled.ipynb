{
 "cells": [
  {
   "cell_type": "code",
   "execution_count": 1,
   "id": "318e1bb4-c243-4016-8b98-293fa97d4660",
   "metadata": {},
   "outputs": [],
   "source": [
    "import numpy as np"
   ]
  },
  {
   "cell_type": "markdown",
   "id": "18a9b632-865e-451b-8981-e0e68a7ace70",
   "metadata": {},
   "source": [
    "Um array é como se fosse uma lista, mas ele possui propriedades proprias dentro do numpy, seu tipo de dado é ndarray( ou array de n dimensões)\n",
    "\n",
    "1D array(Array de uma dimensão) -> vetor/vector\n",
    "2D array(Array de duas dimensões) -> matriz/matrix\n",
    "3D array(Array de tres dimensõess) -> Tensor\n",
    "nD array(Array com mais de tres dimensões) -> tensor"
   ]
  },
  {
   "cell_type": "code",
   "execution_count": 19,
   "id": "52efeb7e-5158-4c58-83ec-eb986c7a2e75",
   "metadata": {},
   "outputs": [
    {
     "name": "stdout",
     "output_type": "stream",
     "text": [
      "[[[1 2 3 4 5]\n",
      "  [6 7 8 9 0]]\n",
      "\n",
      " [[9 8 7 6 5]\n",
      "  [2 3 4 6 7]]]\n"
     ]
    }
   ],
   "source": [
    "array = np.array([[[1,2,3,4,5],[6,7,8,9,0]],[[9,8,7,6,5],[2,3,4,6,7]]]) # Isto é um tensor, ele é construido como uma lista de arrays, todos do mesmo tamanho, utilizando a função p.array()\n",
    "print(array)"
   ]
  },
  {
   "cell_type": "code",
   "execution_count": 17,
   "id": "d3ea01c8-85a6-47bb-a06b-8658bc2a111a",
   "metadata": {},
   "outputs": [
    {
     "name": "stdout",
     "output_type": "stream",
     "text": [
      "[[[0. 0. 0. 0. 0. 0.]\n",
      "  [0. 0. 0. 0. 0. 0.]\n",
      "  [0. 0. 0. 0. 0. 0.]]\n",
      "\n",
      " [[0. 0. 0. 0. 0. 0.]\n",
      "  [0. 0. 0. 0. 0. 0.]\n",
      "  [0. 0. 0. 0. 0. 0.]]\n",
      "\n",
      " [[0. 0. 0. 0. 0. 0.]\n",
      "  [0. 0. 0. 0. 0. 0.]\n",
      "  [0. 0. 0. 0. 0. 0.]]\n",
      "\n",
      " [[0. 0. 0. 0. 0. 0.]\n",
      "  [0. 0. 0. 0. 0. 0.]\n",
      "  [0. 0. 0. 0. 0. 0.]]\n",
      "\n",
      " [[0. 0. 0. 0. 0. 0.]\n",
      "  [0. 0. 0. 0. 0. 0.]\n",
      "  [0. 0. 0. 0. 0. 0.]]]\n"
     ]
    }
   ],
   "source": [
    "array_zero = np.zeros(shape = (5,3,6)) # np.zero cria um array apenas com zeros. o parametro shape define o tamanho das dimensões, \n",
    "# ou seja, as dimensões são respectivamente de tamanhos 5, 3, e 6. \n",
    "print(array_zero)"
   ]
  }
 ],
 "metadata": {
  "kernelspec": {
   "display_name": "Python 3 (ipykernel)",
   "language": "python",
   "name": "python3"
  },
  "language_info": {
   "codemirror_mode": {
    "name": "ipython",
    "version": 3
   },
   "file_extension": ".py",
   "mimetype": "text/x-python",
   "name": "python",
   "nbconvert_exporter": "python",
   "pygments_lexer": "ipython3",
   "version": "3.12.7"
  }
 },
 "nbformat": 4,
 "nbformat_minor": 5
}
