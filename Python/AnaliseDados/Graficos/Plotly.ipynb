{
 "cells": [
  {
   "cell_type": "code",
   "execution_count": null,
   "id": "4807b4a8-28c5-4fb5-8bb8-b2552debb07b",
   "metadata": {},
   "outputs": [],
   "source": []
  }
 ],
 "metadata": {
  "kernelspec": {
   "display_name": "",
   "name": ""
  },
  "language_info": {
   "name": ""
  }
 },
 "nbformat": 4,
 "nbformat_minor": 5
}
