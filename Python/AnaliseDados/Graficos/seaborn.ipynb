{
 "cells": [
  {
   "cell_type": "code",
   "execution_count": null,
   "id": "1eac491d-5a42-415e-8443-0a1ebacd0918",
   "metadata": {},
   "outputs": [],
   "source": []
  }
 ],
 "metadata": {
  "kernelspec": {
   "display_name": "",
   "name": ""
  },
  "language_info": {
   "name": ""
  }
 },
 "nbformat": 4,
 "nbformat_minor": 5
}
