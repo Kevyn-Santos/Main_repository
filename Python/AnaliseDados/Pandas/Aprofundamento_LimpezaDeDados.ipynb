{
 "cells": [
  {
   "cell_type": "markdown",
   "id": "268e7013-49e3-435f-a3fd-7f21af526ad2",
   "metadata": {},
   "source": [
    "# Aprofundamento pelo livro"
   ]
  },
  {
   "cell_type": "code",
   "execution_count": 1,
   "id": "a4c63a5e-9df9-4eae-bafc-5f188402e881",
   "metadata": {},
   "outputs": [],
   "source": [
    "import pandas as pd\n",
    "import numpy as np"
   ]
  },
  {
   "cell_type": "markdown",
   "id": "616e8da6-1cc2-458f-b050-d1e19903ae01",
   "metadata": {
    "jp-MarkdownHeadingCollapsed": true
   },
   "source": [
    "## Limpeza de dados - Valores ausentes"
   ]
  },
  {
   "cell_type": "code",
   "execution_count": 2,
   "id": "b6efa412-cf6a-41b1-93db-65b642a20e1a",
   "metadata": {},
   "outputs": [
    {
     "data": {
      "text/plain": [
       "0    False\n",
       "1    False\n",
       "2     True\n",
       "3    False\n",
       "dtype: bool"
      ]
     },
     "execution_count": 2,
     "metadata": {},
     "output_type": "execute_result"
    }
   ],
   "source": [
    "float_data = pd.Series([1.2, -3.5, np.nan, 0])\n",
    "float_data.isna()"
   ]
  },
  {
   "cell_type": "markdown",
   "id": "c8fbdac2-e51a-48dd-a1d5-09b2ab7ef4b7",
   "metadata": {
    "jp-MarkdownHeadingCollapsed": true
   },
   "source": [
    "### DROPNA"
   ]
  },
  {
   "cell_type": "code",
   "execution_count": 3,
   "id": "4853c4e9-e1e2-4a1f-a294-382f1a252c0d",
   "metadata": {},
   "outputs": [
    {
     "name": "stdout",
     "output_type": "stream",
     "text": [
      "     0    1    2\n",
      "0  1.0  6.5  3.0\n",
      "1  1.0  NaN  NaN\n",
      "2  NaN  NaN  NaN\n",
      "3  NaN  6.5  3.0 \n",
      " \n",
      "\n",
      "     0    1    2\n",
      "0  1.0  6.5  3.0 \n",
      " \n",
      "\n",
      "     0    1    2\n",
      "0  1.0  6.5  3.0 \n",
      " \n",
      "\n",
      "     0    1    2\n",
      "0  1.0  6.5  3.0\n",
      "1  1.0  NaN  NaN\n",
      "3  NaN  6.5  3.0 \n",
      " \n",
      "\n"
     ]
    }
   ],
   "source": [
    "data = pd.DataFrame([[1., 6.5, 3.], [1., np.nan, np.nan],\n",
    "                     [np.nan, np.nan, np.nan], [np.nan, 6.5, 3.]])\n",
    "\n",
    "data2 = data.dropna()\n",
    "data3 = data.dropna(how='any') # configuração padrão\n",
    "data4 = data.dropna(how='all')\n",
    "\n",
    "print(f'{data} \\n \\n')\n",
    "print(f'{data2} \\n \\n')\n",
    "print(f'{data3} \\n \\n')\n",
    "print(f'{data4} \\n \\n')"
   ]
  },
  {
   "cell_type": "code",
   "execution_count": 4,
   "id": "df1c7ebf-8607-4a62-b164-9185cc0d9bb7",
   "metadata": {},
   "outputs": [
    {
     "name": "stderr",
     "output_type": "stream",
     "text": [
      "C:\\Users\\kevyn\\AppData\\Local\\Temp\\ipykernel_15200\\2979535473.py:4: FutureWarning: Downcasting behavior in `replace` is deprecated and will be removed in a future version. To retain the old behavior, explicitly call `result.infer_objects(copy=False)`. To opt-in to the future behavior, set `pd.set_option('future.no_silent_downcasting', True)`\n",
      "  data2P = data2.replace('-', np.nan)\n"
     ]
    }
   ],
   "source": [
    "data2 = pd.DataFrame([[1., 6.5, 3.], [1., '-', np.nan],\n",
    "                     [np.nan, np.nan, np.nan], [np.nan, 6.5, 3.]])\n",
    "\n",
    "data2P = data2.replace('-', np.nan)"
   ]
  },
  {
   "cell_type": "code",
   "execution_count": 5,
   "id": "b33502e9-f4f6-44ab-b7e9-c59a946d4862",
   "metadata": {},
   "outputs": [
    {
     "data": {
      "text/html": [
       "<div>\n",
       "<style scoped>\n",
       "    .dataframe tbody tr th:only-of-type {\n",
       "        vertical-align: middle;\n",
       "    }\n",
       "\n",
       "    .dataframe tbody tr th {\n",
       "        vertical-align: top;\n",
       "    }\n",
       "\n",
       "    .dataframe thead th {\n",
       "        text-align: right;\n",
       "    }\n",
       "</style>\n",
       "<table border=\"1\" class=\"dataframe\">\n",
       "  <thead>\n",
       "    <tr style=\"text-align: right;\">\n",
       "      <th></th>\n",
       "      <th>0</th>\n",
       "      <th>1</th>\n",
       "      <th>2</th>\n",
       "    </tr>\n",
       "  </thead>\n",
       "  <tbody>\n",
       "    <tr>\n",
       "      <th>0</th>\n",
       "      <td>1.0</td>\n",
       "      <td>6.5</td>\n",
       "      <td>3.0</td>\n",
       "    </tr>\n",
       "    <tr>\n",
       "      <th>3</th>\n",
       "      <td>NaN</td>\n",
       "      <td>6.5</td>\n",
       "      <td>3.0</td>\n",
       "    </tr>\n",
       "  </tbody>\n",
       "</table>\n",
       "</div>"
      ],
      "text/plain": [
       "     0    1    2\n",
       "0  1.0  6.5  3.0\n",
       "3  NaN  6.5  3.0"
      ]
     },
     "execution_count": 5,
     "metadata": {},
     "output_type": "execute_result"
    }
   ],
   "source": [
    "data5 = data.dropna(thresh=2)\n",
    "data5"
   ]
  },
  {
   "cell_type": "markdown",
   "id": "d53eae84-ff80-479c-a0e1-000e5362c4db",
   "metadata": {
    "jp-MarkdownHeadingCollapsed": true
   },
   "source": [
    "### FILLNA"
   ]
  },
  {
   "cell_type": "code",
   "execution_count": 6,
   "id": "bfafb485-1204-4d1e-97e2-970f424d5c8c",
   "metadata": {},
   "outputs": [
    {
     "name": "stdout",
     "output_type": "stream",
     "text": [
      "          0         1         2\n",
      "0  1.192029  1.355520  1.169692\n",
      "1 -0.151252 -1.750816  0.800067\n",
      "2  0.282401 -1.750816  0.695233\n",
      "3  0.922662 -1.750816  0.467829\n",
      "4  0.542304 -1.750816  0.467829\n",
      "5  0.098225 -1.750816  0.467829 \n",
      " \n",
      "\n",
      "          0         1         2\n",
      "0  1.192029  1.355520  1.169692\n",
      "1 -0.151252 -1.750816  0.800067\n",
      "2  0.282401       NaN  0.695233\n",
      "3  0.922662       NaN  0.467829\n",
      "4  0.542304       NaN       NaN\n",
      "5  0.098225       NaN       NaN \n",
      " \n",
      "\n"
     ]
    },
    {
     "name": "stderr",
     "output_type": "stream",
     "text": [
      "C:\\Users\\kevyn\\AppData\\Local\\Temp\\ipykernel_15200\\3991453220.py:9: FutureWarning: DataFrame.fillna with 'method' is deprecated and will raise in a future version. Use obj.ffill() or obj.bfill() instead.\n",
      "  dffill = df.fillna(method='ffill')\n"
     ]
    }
   ],
   "source": [
    "df = pd.DataFrame(np.random.standard_normal((6, 3)))\n",
    "\n",
    "df.iloc[2:, 1] = np.nan\n",
    "\n",
    "df.iloc[4:, 2] = np.nan\n",
    "\n",
    "df\n",
    "\n",
    "dffill = df.fillna(method='ffill')\n",
    "print(f'{dffill} \\n \\n')\n",
    "print(f'{df} \\n \\n')"
   ]
  },
  {
   "cell_type": "code",
   "execution_count": 7,
   "id": "5ffecfdd-cdf1-406b-95cb-221d65bd4daf",
   "metadata": {},
   "outputs": [
    {
     "data": {
      "text/plain": [
       "0    1.200000\n",
       "1   -3.500000\n",
       "2   -0.766667\n",
       "3    0.000000\n",
       "dtype: float64"
      ]
     },
     "execution_count": 7,
     "metadata": {},
     "output_type": "execute_result"
    }
   ],
   "source": [
    "float_data1 = float_data.fillna(float_data.mean())\n",
    "float_data2 = float_data.fillna(float_data.min())\n",
    "\n",
    "float_data1"
   ]
  },
  {
   "cell_type": "markdown",
   "id": "b6c5c2a0-4ffe-4ae7-9ee7-2ca4c8445e02",
   "metadata": {
    "jp-MarkdownHeadingCollapsed": true
   },
   "source": [
    "## Limpeza de dados - Valores Duplicados"
   ]
  },
  {
   "cell_type": "code",
   "execution_count": 59,
   "id": "d53db697-e912-4d37-a01a-1c08f82d88de",
   "metadata": {},
   "outputs": [
    {
     "name": "stdout",
     "output_type": "stream",
     "text": [
      "0     True\n",
      "1    False\n",
      "2    False\n",
      "3     True\n",
      "4    False\n",
      "5     True\n",
      "6    False\n",
      "dtype: bool \n",
      " \n",
      "\n",
      "    k1  k2\n",
      "0  one   1\n",
      "1  two   1\n",
      "2  one   2\n",
      "3  two   3\n",
      "4  one   3\n",
      "5  two   4\n",
      "6  two   4 \n",
      " \n",
      "\n",
      "    k1  k2\n",
      "1  two   1\n",
      "2  one   2\n",
      "4  one   3\n",
      "6  two   4 \n",
      " \n",
      "\n",
      "    k1  k2\n",
      "0  one   1\n",
      "2  one   2\n",
      "3  two   3\n",
      "5  two   4 \n",
      " \n",
      "\n"
     ]
    }
   ],
   "source": [
    "data = pd.DataFrame({\"k1\": [\"one\", \"two\"] * 3 + [\"two\"],\n",
    "                   \"k2\": [1, 1, 2, 3, 3, 4, 4]})\n",
    "DataD = data.duplicated(subset=['k2'], keep='last')\n",
    "DataDrop = data.drop_duplicates(subset=['k2'], keep='last')\n",
    "DataDrop2 = data.drop_duplicates(subset=['k2'], keep='first')\n",
    "\n",
    "print(f'{DataD} \\n \\n')\n",
    "print(f'{data} \\n \\n')\n",
    "print(f'{DataDrop} \\n \\n')\n",
    "print(f'{DataDrop2} \\n \\n')"
   ]
  },
  {
   "cell_type": "markdown",
   "id": "2696a1d1-e193-43cb-aa69-d0c32e93cf9d",
   "metadata": {},
   "source": [
    "## Limpeza de dados - Tipos de dados"
   ]
  },
  {
   "cell_type": "code",
   "execution_count": 102,
   "id": "28e3b77a-cc92-4c64-8e0d-1196cd0479e4",
   "metadata": {},
   "outputs": [
    {
     "name": "stdout",
     "output_type": "stream",
     "text": [
      "[1 2 3 4 5] \n",
      " \n",
      "\n"
     ]
    },
    {
     "data": {
      "text/plain": [
       "array([b'1', b'2', b'3', b'4', b'a'], dtype='|S21')"
      ]
     },
     "execution_count": 102,
     "metadata": {},
     "output_type": "execute_result"
    }
   ],
   "source": [
    "dados = np.array([1, 2, 3, 4, 5])\n",
    "dados2 = np.array([1, 2, 3, 4, 'a'])\n",
    "\n",
    "print(f'{dados} \\n \\n')\n",
    "dados2.astype('S')"
   ]
  },
  {
   "cell_type": "code",
   "execution_count": 119,
   "id": "e136c2bf-cee5-455b-99c3-0ab8a844d922",
   "metadata": {},
   "outputs": [
    {
     "data": {
      "text/html": [
       "<div>\n",
       "<style scoped>\n",
       "    .dataframe tbody tr th:only-of-type {\n",
       "        vertical-align: middle;\n",
       "    }\n",
       "\n",
       "    .dataframe tbody tr th {\n",
       "        vertical-align: top;\n",
       "    }\n",
       "\n",
       "    .dataframe thead th {\n",
       "        text-align: right;\n",
       "    }\n",
       "</style>\n",
       "<table border=\"1\" class=\"dataframe\">\n",
       "  <thead>\n",
       "    <tr style=\"text-align: right;\">\n",
       "      <th></th>\n",
       "      <th>food</th>\n",
       "      <th>ounces</th>\n",
       "      <th>animal</th>\n",
       "    </tr>\n",
       "  </thead>\n",
       "  <tbody>\n",
       "    <tr>\n",
       "      <th>0</th>\n",
       "      <td>Bacon</td>\n",
       "      <td>4.0</td>\n",
       "      <td>pig</td>\n",
       "    </tr>\n",
       "    <tr>\n",
       "      <th>1</th>\n",
       "      <td>Pulled pork</td>\n",
       "      <td>3.0</td>\n",
       "      <td>pig</td>\n",
       "    </tr>\n",
       "    <tr>\n",
       "      <th>2</th>\n",
       "      <td>Bacon</td>\n",
       "      <td>12.0</td>\n",
       "      <td>pig</td>\n",
       "    </tr>\n",
       "    <tr>\n",
       "      <th>3</th>\n",
       "      <td>Pastrami</td>\n",
       "      <td>6.0</td>\n",
       "      <td>cow</td>\n",
       "    </tr>\n",
       "    <tr>\n",
       "      <th>4</th>\n",
       "      <td>Corned beef</td>\n",
       "      <td>7.5</td>\n",
       "      <td>cow</td>\n",
       "    </tr>\n",
       "    <tr>\n",
       "      <th>5</th>\n",
       "      <td>Bacon</td>\n",
       "      <td>8.0</td>\n",
       "      <td>pig</td>\n",
       "    </tr>\n",
       "    <tr>\n",
       "      <th>6</th>\n",
       "      <td>Pastrami</td>\n",
       "      <td>3.0</td>\n",
       "      <td>cow</td>\n",
       "    </tr>\n",
       "    <tr>\n",
       "      <th>7</th>\n",
       "      <td>Honey ham</td>\n",
       "      <td>5.0</td>\n",
       "      <td>pig</td>\n",
       "    </tr>\n",
       "    <tr>\n",
       "      <th>8</th>\n",
       "      <td>Nova lox</td>\n",
       "      <td>6.0</td>\n",
       "      <td>salmon</td>\n",
       "    </tr>\n",
       "  </tbody>\n",
       "</table>\n",
       "</div>"
      ],
      "text/plain": [
       "          food  ounces  animal\n",
       "0        Bacon     4.0     pig\n",
       "1  Pulled pork     3.0     pig\n",
       "2        Bacon    12.0     pig\n",
       "3     Pastrami     6.0     cow\n",
       "4  Corned beef     7.5     cow\n",
       "5        Bacon     8.0     pig\n",
       "6     Pastrami     3.0     cow\n",
       "7    Honey ham     5.0     pig\n",
       "8     Nova lox     6.0  salmon"
      ]
     },
     "execution_count": 119,
     "metadata": {},
     "output_type": "execute_result"
    }
   ],
   "source": [
    "data = pd.DataFrame({\"food\": [\"bacon\", \"pulled pork\", \"bacon\",\n",
    "                          \"pastrami\", \"corned beef\", \"bacon\",\n",
    "                            \"pastrami\", \"honey ham\", \"nova lox\"],\n",
    "                    \"ounces\": [4, 3, 12, 6, 7.5, 8, 3, 5, 6]})\n",
    "\n",
    "animal = {\n",
    "    'bacon': 'pig',\n",
    "    \"pulled pork\": \"pig\",\n",
    "    \"pastrami\": \"cow\",\n",
    "    \"corned beef\": \"cow\",\n",
    "    \"honey ham\": \"pig\",\n",
    "    \"nova lox\": \"salmon\"\n",
    "}\n",
    "\n",
    "def maiuscula(str):\n",
    "    return str.capitalize()\n",
    "\n",
    "data['animal'] = data['food'].map(animal)\n",
    "data['food'] = data['food'].map(maiuscula)\n",
    "data"
   ]
  },
  {
   "cell_type": "code",
   "execution_count": 135,
   "id": "b080d45c-b71d-464c-84a0-405bb6abe63f",
   "metadata": {},
   "outputs": [
    {
     "data": {
      "text/plain": [
       "0      1.0\n",
       "1      NaN\n",
       "2      2.0\n",
       "3      NaN\n",
       "4    500.0\n",
       "5      3.0\n",
       "dtype: float64"
      ]
     },
     "execution_count": 135,
     "metadata": {},
     "output_type": "execute_result"
    }
   ],
   "source": [
    "data = pd.Series([1., -999., 2., -999., -1000., 3.], dtype=int)\n",
    "\n",
    "rep1 = data.replace(-999, np.nan)\n",
    "rep2 = data.replace([-999, -1000], [np.nan, 0])\n",
    "rep3 = data.replace({-999: np.nan, -1000: 500})\n",
    "\n",
    "rep3"
   ]
  },
  {
   "cell_type": "code",
   "execution_count": 155,
   "id": "d84b938f-9daa-4ab7-80bb-7ca1f86961fe",
   "metadata": {},
   "outputs": [
    {
     "data": {
      "text/plain": [
       "Index(['One', 'Two', 'Three', 'Four'], dtype='object')"
      ]
     },
     "execution_count": 155,
     "metadata": {},
     "output_type": "execute_result"
    }
   ],
   "source": [
    "data = pd.DataFrame(np.arange(12).reshape((3, 4)),\n",
    "                 index=[\"Ohio\", \"Colorado\", \"New York\"],\n",
    "                 columns=[\"one\", \"two\", \"three\", \"four\"])\n",
    "\n",
    "dataR = data.rename(columns={\"one\": 'teste', \"two\": 'babidi'})\n",
    "\n",
    "dataR"
   ]
  }
 ],
 "metadata": {
  "kernelspec": {
   "display_name": "Python 3 (ipykernel)",
   "language": "python",
   "name": "python3"
  },
  "language_info": {
   "codemirror_mode": {
    "name": "ipython",
    "version": 3
   },
   "file_extension": ".py",
   "mimetype": "text/x-python",
   "name": "python",
   "nbconvert_exporter": "python",
   "pygments_lexer": "ipython3",
   "version": "3.12.7"
  }
 },
 "nbformat": 4,
 "nbformat_minor": 5
}
